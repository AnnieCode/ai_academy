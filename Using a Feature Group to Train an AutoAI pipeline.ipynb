{
    "cells": [
        {
            "source": "# @hidden_cell\n# The project token is an authorization token that is used to access project resources like data sources, connections, and used by platform APIs.\nfrom project_lib import Project\nproject = Project(project_id='5bc64a8f-3e83-42be-95cc-10d6c9519046', project_access_token='p-c42c9564e3b5d86b5db5fa5fb224069f0f47de83')\n",
            "cell_type": "code",
            "execution_count": null,
            "outputs": [],
            "metadata": {}
        },
        {
            "metadata": {},
            "cell_type": "markdown",
            "source": "# Use a feature group to configure an AutoAI experiment"
        },
        {
            "metadata": {},
            "cell_type": "markdown",
            "source": "This notebook demonstrates how feature group metadata speeds up the configuration of an AutoAI experiment. The notebook describes the commands for retrieving a feature group, training experiments and scoring. The notebook uses the  project data asset called `german_credit_data_biased_training.csv`, which contains the German Credit Risk data set. This data asset has been enriched with feature group metadata. You can view the  _raw_ data set, without the metadata enrichment, at this location [german_credit_data_biased_training.csv](https://github.com/IBM/watson-machine-learning-samples/blob/master/cloud/data/bias/german_credit_data_biased_training.csv).\n\n\n\n## What you'll learn in this notebook\n\nThis notebook shows you how to:\n\n- Retrieve existing feature group information for a data asset by using the `assetframe-lib` Python library.\n- Quickly understand the training data using the feature group _preview_ method.\n- Use feature group metadate to configure source and target columns in an AutoAI experiment, and to provide fairness information for AutoAI.\n\n\n## Contents\n\nThis notebook contains the following parts:\n\n1. [Before you start](#beforeYouStart)\n2. [Work with feature groups](#featuregroup)\n3. [Create an AutoAI experiment](#autoai)\n4. [Summary](#summary)"
        },
        {
            "metadata": {},
            "cell_type": "markdown",
            "source": "<a id=\"beforeYouStart\"></a>\n## Before you start\n\n### Set up Watson Machine Learning\nTo run the AutoAI experiment that is part of this notebook, you must:\n- Create an instance of Watson Machine Learning, if you haven't already done so.\n- Associate this instance with your Watson Studio project.\n\n### Create a project token\nBefore you can begin working on this notebook in Watson Studio in Cloud Pak for Data as a Service, you need to ensure that the project token is set so that you can access the project assets via the notebook.\n\nWhen this notebook is added to the project, a project access token should be inserted at the top of the notebook in a code cell. If you do not see the cell above, add the token to the notebook by clicking **More > Insert project token** from the notebook action bar.  By running the inserted hidden code cell, a project object is created that you can use to access project resources.\n\n![ws-project.mov](https://media.giphy.com/media/jSVxX2spqwWF9unYrs/giphy.gif)\n\nNote that you can step through the notebook execution cell by cell, by selecting Shift-Enter. Or you can execute the entire notebook by selecting **Cell -> Run All** from the menu.\n"
        },
        {
            "metadata": {},
            "cell_type": "markdown",
            "source": "<a id=\"featuregroup\"></a>\n## Work with feature groups"
        },
        {
            "metadata": {},
            "cell_type": "markdown",
            "source": "### Overview\n\nFeature groups are data assets that are useful for multiple machine learning use cases. Data engineers and data scientists can provide additional metadata for each feature of such a feature group that helps downstream machine learning tasks. This notebook uses two metadata attributes from the feature group: \n- The `role` of the feature: Should it be used as _input_ to a machine learning model, is it the _target_ of a prediction, or is it the _identifier_ of a partocular row of a data asset.\n- The `fairness information`: this includes _monitored_ and _reference_ groups for input features, and the _favorable_ outcome for target features.\n\nThere are three options in Cloud Pak for Data to create and view feature groups. You can use:\n- The _Feature group_ tab of data assets in the catalog UI\n- The _Feature group_ tab of data assets in the project UI\n- The _assetframe-lib_ Python library in notebooks\n\nThis notebook shows how to view feature groups using the `assetframe-lib` library.\nFor additional details on feature goups and the feature group tab, see [Managing data features](https://ibmdocs-test.dcs.ibm.com/docs/en/icpdaas_test?topic=data-managing-feature-groups-beta)."
        },
        {
            "metadata": {},
            "cell_type": "markdown",
            "source": "### Show the feature group and sample data\n\nBegin by initializing the `assetframe-lib` library:"
        },
        {
            "metadata": {},
            "cell_type": "code",
            "source": "asset_name = \"german_credit_data_biased_training.csv\"",
            "execution_count": 3,
            "outputs": []
        },
        {
            "metadata": {},
            "cell_type": "code",
            "source": "from ibm_watson_studio_lib import access_project_or_space\nwslib = access_project_or_space({'token': project.project_context.accessToken})\n\nfrom assetframe_lib import AssetFrame\n\nAssetFrame._wslib = wslib;\n\naf = AssetFrame.from_data_asset(asset_name)",
            "execution_count": 4,
            "outputs": []
        },
        {
            "metadata": {},
            "cell_type": "markdown",
            "source": "#### Data Preview\nThe `head()` method in the `assetframe-lib` library gives you a quick overview of the underlying data asset, without you having to import all the data into the notebook. Plus, it includes the following information about the data asset and the feature group:\n- The _name_ of the data asset\n- The _role_ of each feature\n- The _description_ of each feature\n- The _recipe_ of each feature\n- For input features, it highlights values from the monitored groups (in yellow) and the reference groups (in brown)\n- For target features, it highlights favorable outcomes (in green) and unfavorable outcomes (in red)\n"
        },
        {
            "metadata": {},
            "cell_type": "code",
            "source": "af.head()",
            "execution_count": 4,
            "outputs": [
                {
                    "output_type": "execute_result",
                    "execution_count": 4,
                    "data": {
                        "text/plain": "<pandas.io.formats.style.Styler at 0x7f93a587a3e0>",
                        "text/html": "<style type=\"text/css\">\n#T_4a9e2 assetframe_role {\n  font-weight: normal;\n  font-style: italic;\n}\n#T_4a9e2 assetframe_description {\n  font-weight: normal;\n  font-style: normal;\n}\n#T_4a9e2 assetframe_recipe {\n  font-weight: normal;\n  font-style: normal;\n}\n#T_4a9e2 th {\n  vertical-align: text-top;\n}\n#T_4a9e2 caption {\n  font-size: 1.25em;\n}\n#T_4a9e2_row0_col1, #T_4a9e2_row0_col3, #T_4a9e2_row0_col4, #T_4a9e2_row0_col6, #T_4a9e2_row0_col9, #T_4a9e2_row0_col11, #T_4a9e2_row0_col14, #T_4a9e2_row0_col16, #T_4a9e2_row1_col1, #T_4a9e2_row1_col3, #T_4a9e2_row1_col4, #T_4a9e2_row1_col6, #T_4a9e2_row1_col9, #T_4a9e2_row1_col11, #T_4a9e2_row1_col14, #T_4a9e2_row1_col16, #T_4a9e2_row2_col1, #T_4a9e2_row2_col3, #T_4a9e2_row2_col4, #T_4a9e2_row2_col6, #T_4a9e2_row2_col9, #T_4a9e2_row2_col11, #T_4a9e2_row2_col14, #T_4a9e2_row2_col16, #T_4a9e2_row3_col1, #T_4a9e2_row3_col3, #T_4a9e2_row3_col4, #T_4a9e2_row3_col6, #T_4a9e2_row3_col9, #T_4a9e2_row3_col11, #T_4a9e2_row3_col14, #T_4a9e2_row3_col16, #T_4a9e2_row4_col1, #T_4a9e2_row4_col3, #T_4a9e2_row4_col4, #T_4a9e2_row4_col6, #T_4a9e2_row4_col9, #T_4a9e2_row4_col11, #T_4a9e2_row4_col14, #T_4a9e2_row4_col16 {\n  background-color: ;\n}\n#T_4a9e2_row0_col8, #T_4a9e2_row1_col8 {\n  background-color: rgb(255, 255, 224, 0.8);\n}\n#T_4a9e2_row0_col12, #T_4a9e2_row1_col12, #T_4a9e2_row2_col8, #T_4a9e2_row2_col12, #T_4a9e2_row3_col8, #T_4a9e2_row3_col12, #T_4a9e2_row4_col8, #T_4a9e2_row4_col12 {\n  background-color: rgb(255, 218, 185, 0.8);\n}\n#T_4a9e2_row0_col20, #T_4a9e2_row1_col20, #T_4a9e2_row2_col20, #T_4a9e2_row3_col20 {\n  background-color: rgb(144, 238, 144, 0.2);\n}\n#T_4a9e2_row4_col20 {\n  background-color: rgb(240, 128, 128, 0.2);\n}\n</style>\n<table id=\"T_4a9e2\">\n  <caption>german_credit_data_biased_training.csv</caption>\n  <thead>\n    <tr>\n      <th class=\"blank level0\" >&nbsp;</th>\n      <th id=\"T_4a9e2_level0_col0\" class=\"col_heading level0 col0\" >CheckingStatus</th>\n      <th id=\"T_4a9e2_level0_col1\" class=\"col_heading level0 col1\" >LoanDuration<assetframe_role><br>Input</assetframe_role></th>\n      <th id=\"T_4a9e2_level0_col2\" class=\"col_heading level0 col2\" >CreditHistory</th>\n      <th id=\"T_4a9e2_level0_col3\" class=\"col_heading level0 col3\" >LoanPurpose<assetframe_role><br>Input</assetframe_role></th>\n      <th id=\"T_4a9e2_level0_col4\" class=\"col_heading level0 col4\" >LoanAmount<assetframe_role><br>Input</assetframe_role></th>\n      <th id=\"T_4a9e2_level0_col5\" class=\"col_heading level0 col5\" >ExistingSavings</th>\n      <th id=\"T_4a9e2_level0_col6\" class=\"col_heading level0 col6\" >EmploymentDuration<assetframe_role><br>Input</assetframe_role></th>\n      <th id=\"T_4a9e2_level0_col7\" class=\"col_heading level0 col7\" >InstallmentPercent</th>\n      <th id=\"T_4a9e2_level0_col8\" class=\"col_heading level0 col8\" >Sex<assetframe_role><br>Input</assetframe_role></th>\n      <th id=\"T_4a9e2_level0_col9\" class=\"col_heading level0 col9\" >OthersOnLoan<assetframe_role><br>Input</assetframe_role></th>\n      <th id=\"T_4a9e2_level0_col10\" class=\"col_heading level0 col10\" >CurrentResidenceDuration</th>\n      <th id=\"T_4a9e2_level0_col11\" class=\"col_heading level0 col11\" >OwnsProperty<assetframe_role><br>Input</assetframe_role></th>\n      <th id=\"T_4a9e2_level0_col12\" class=\"col_heading level0 col12\" >Age<assetframe_role><br>Input</assetframe_role></th>\n      <th id=\"T_4a9e2_level0_col13\" class=\"col_heading level0 col13\" >InstallmentPlans</th>\n      <th id=\"T_4a9e2_level0_col14\" class=\"col_heading level0 col14\" >Housing<assetframe_role><br>Input</assetframe_role></th>\n      <th id=\"T_4a9e2_level0_col15\" class=\"col_heading level0 col15\" >ExistingCreditsCount</th>\n      <th id=\"T_4a9e2_level0_col16\" class=\"col_heading level0 col16\" >Job<assetframe_role><br>Input</assetframe_role></th>\n      <th id=\"T_4a9e2_level0_col17\" class=\"col_heading level0 col17\" >Dependents</th>\n      <th id=\"T_4a9e2_level0_col18\" class=\"col_heading level0 col18\" >Telephone</th>\n      <th id=\"T_4a9e2_level0_col19\" class=\"col_heading level0 col19\" >ForeignWorker</th>\n      <th id=\"T_4a9e2_level0_col20\" class=\"col_heading level0 col20\" >Risk<assetframe_role><br>Target</assetframe_role></th>\n    </tr>\n  </thead>\n  <tbody>\n    <tr>\n      <th id=\"T_4a9e2_level0_row0\" class=\"row_heading level0 row0\" >0</th>\n      <td id=\"T_4a9e2_row0_col0\" class=\"data row0 col0\" >0_to_200</td>\n      <td id=\"T_4a9e2_row0_col1\" class=\"data row0 col1\" >31.000000</td>\n      <td id=\"T_4a9e2_row0_col2\" class=\"data row0 col2\" >credits_paid_to_date</td>\n      <td id=\"T_4a9e2_row0_col3\" class=\"data row0 col3\" >other</td>\n      <td id=\"T_4a9e2_row0_col4\" class=\"data row0 col4\" >1889.000000</td>\n      <td id=\"T_4a9e2_row0_col5\" class=\"data row0 col5\" >100_to_500</td>\n      <td id=\"T_4a9e2_row0_col6\" class=\"data row0 col6\" >less_1</td>\n      <td id=\"T_4a9e2_row0_col7\" class=\"data row0 col7\" >3.000000</td>\n      <td id=\"T_4a9e2_row0_col8\" class=\"data row0 col8\" >female</td>\n      <td id=\"T_4a9e2_row0_col9\" class=\"data row0 col9\" >none</td>\n      <td id=\"T_4a9e2_row0_col10\" class=\"data row0 col10\" >3.000000</td>\n      <td id=\"T_4a9e2_row0_col11\" class=\"data row0 col11\" >savings_insurance</td>\n      <td id=\"T_4a9e2_row0_col12\" class=\"data row0 col12\" >32.000000</td>\n      <td id=\"T_4a9e2_row0_col13\" class=\"data row0 col13\" >none</td>\n      <td id=\"T_4a9e2_row0_col14\" class=\"data row0 col14\" >own</td>\n      <td id=\"T_4a9e2_row0_col15\" class=\"data row0 col15\" >1.000000</td>\n      <td id=\"T_4a9e2_row0_col16\" class=\"data row0 col16\" >skilled</td>\n      <td id=\"T_4a9e2_row0_col17\" class=\"data row0 col17\" >1.000000</td>\n      <td id=\"T_4a9e2_row0_col18\" class=\"data row0 col18\" >none</td>\n      <td id=\"T_4a9e2_row0_col19\" class=\"data row0 col19\" >yes</td>\n      <td id=\"T_4a9e2_row0_col20\" class=\"data row0 col20\" >No Risk</td>\n    </tr>\n    <tr>\n      <th id=\"T_4a9e2_level0_row1\" class=\"row_heading level0 row1\" >1</th>\n      <td id=\"T_4a9e2_row1_col0\" class=\"data row1 col0\" >less_0</td>\n      <td id=\"T_4a9e2_row1_col1\" class=\"data row1 col1\" >18.000000</td>\n      <td id=\"T_4a9e2_row1_col2\" class=\"data row1 col2\" >credits_paid_to_date</td>\n      <td id=\"T_4a9e2_row1_col3\" class=\"data row1 col3\" >car_new</td>\n      <td id=\"T_4a9e2_row1_col4\" class=\"data row1 col4\" >462.000000</td>\n      <td id=\"T_4a9e2_row1_col5\" class=\"data row1 col5\" >less_100</td>\n      <td id=\"T_4a9e2_row1_col6\" class=\"data row1 col6\" >1_to_4</td>\n      <td id=\"T_4a9e2_row1_col7\" class=\"data row1 col7\" >2.000000</td>\n      <td id=\"T_4a9e2_row1_col8\" class=\"data row1 col8\" >female</td>\n      <td id=\"T_4a9e2_row1_col9\" class=\"data row1 col9\" >none</td>\n      <td id=\"T_4a9e2_row1_col10\" class=\"data row1 col10\" >2.000000</td>\n      <td id=\"T_4a9e2_row1_col11\" class=\"data row1 col11\" >savings_insurance</td>\n      <td id=\"T_4a9e2_row1_col12\" class=\"data row1 col12\" >37.000000</td>\n      <td id=\"T_4a9e2_row1_col13\" class=\"data row1 col13\" >stores</td>\n      <td id=\"T_4a9e2_row1_col14\" class=\"data row1 col14\" >own</td>\n      <td id=\"T_4a9e2_row1_col15\" class=\"data row1 col15\" >2.000000</td>\n      <td id=\"T_4a9e2_row1_col16\" class=\"data row1 col16\" >skilled</td>\n      <td id=\"T_4a9e2_row1_col17\" class=\"data row1 col17\" >1.000000</td>\n      <td id=\"T_4a9e2_row1_col18\" class=\"data row1 col18\" >none</td>\n      <td id=\"T_4a9e2_row1_col19\" class=\"data row1 col19\" >yes</td>\n      <td id=\"T_4a9e2_row1_col20\" class=\"data row1 col20\" >No Risk</td>\n    </tr>\n    <tr>\n      <th id=\"T_4a9e2_level0_row2\" class=\"row_heading level0 row2\" >2</th>\n      <td id=\"T_4a9e2_row2_col0\" class=\"data row2 col0\" >less_0</td>\n      <td id=\"T_4a9e2_row2_col1\" class=\"data row2 col1\" >15.000000</td>\n      <td id=\"T_4a9e2_row2_col2\" class=\"data row2 col2\" >prior_payments_delayed</td>\n      <td id=\"T_4a9e2_row2_col3\" class=\"data row2 col3\" >furniture</td>\n      <td id=\"T_4a9e2_row2_col4\" class=\"data row2 col4\" >250.000000</td>\n      <td id=\"T_4a9e2_row2_col5\" class=\"data row2 col5\" >less_100</td>\n      <td id=\"T_4a9e2_row2_col6\" class=\"data row2 col6\" >1_to_4</td>\n      <td id=\"T_4a9e2_row2_col7\" class=\"data row2 col7\" >2.000000</td>\n      <td id=\"T_4a9e2_row2_col8\" class=\"data row2 col8\" >male</td>\n      <td id=\"T_4a9e2_row2_col9\" class=\"data row2 col9\" >none</td>\n      <td id=\"T_4a9e2_row2_col10\" class=\"data row2 col10\" >3.000000</td>\n      <td id=\"T_4a9e2_row2_col11\" class=\"data row2 col11\" >real_estate</td>\n      <td id=\"T_4a9e2_row2_col12\" class=\"data row2 col12\" >28.000000</td>\n      <td id=\"T_4a9e2_row2_col13\" class=\"data row2 col13\" >none</td>\n      <td id=\"T_4a9e2_row2_col14\" class=\"data row2 col14\" >own</td>\n      <td id=\"T_4a9e2_row2_col15\" class=\"data row2 col15\" >2.000000</td>\n      <td id=\"T_4a9e2_row2_col16\" class=\"data row2 col16\" >skilled</td>\n      <td id=\"T_4a9e2_row2_col17\" class=\"data row2 col17\" >1.000000</td>\n      <td id=\"T_4a9e2_row2_col18\" class=\"data row2 col18\" >yes</td>\n      <td id=\"T_4a9e2_row2_col19\" class=\"data row2 col19\" >no</td>\n      <td id=\"T_4a9e2_row2_col20\" class=\"data row2 col20\" >No Risk</td>\n    </tr>\n    <tr>\n      <th id=\"T_4a9e2_level0_row3\" class=\"row_heading level0 row3\" >3</th>\n      <td id=\"T_4a9e2_row3_col0\" class=\"data row3 col0\" >0_to_200</td>\n      <td id=\"T_4a9e2_row3_col1\" class=\"data row3 col1\" >28.000000</td>\n      <td id=\"T_4a9e2_row3_col2\" class=\"data row3 col2\" >credits_paid_to_date</td>\n      <td id=\"T_4a9e2_row3_col3\" class=\"data row3 col3\" >retraining</td>\n      <td id=\"T_4a9e2_row3_col4\" class=\"data row3 col4\" >3693.000000</td>\n      <td id=\"T_4a9e2_row3_col5\" class=\"data row3 col5\" >less_100</td>\n      <td id=\"T_4a9e2_row3_col6\" class=\"data row3 col6\" >greater_7</td>\n      <td id=\"T_4a9e2_row3_col7\" class=\"data row3 col7\" >3.000000</td>\n      <td id=\"T_4a9e2_row3_col8\" class=\"data row3 col8\" >male</td>\n      <td id=\"T_4a9e2_row3_col9\" class=\"data row3 col9\" >none</td>\n      <td id=\"T_4a9e2_row3_col10\" class=\"data row3 col10\" >2.000000</td>\n      <td id=\"T_4a9e2_row3_col11\" class=\"data row3 col11\" >savings_insurance</td>\n      <td id=\"T_4a9e2_row3_col12\" class=\"data row3 col12\" >32.000000</td>\n      <td id=\"T_4a9e2_row3_col13\" class=\"data row3 col13\" >none</td>\n      <td id=\"T_4a9e2_row3_col14\" class=\"data row3 col14\" >own</td>\n      <td id=\"T_4a9e2_row3_col15\" class=\"data row3 col15\" >1.000000</td>\n      <td id=\"T_4a9e2_row3_col16\" class=\"data row3 col16\" >skilled</td>\n      <td id=\"T_4a9e2_row3_col17\" class=\"data row3 col17\" >1.000000</td>\n      <td id=\"T_4a9e2_row3_col18\" class=\"data row3 col18\" >none</td>\n      <td id=\"T_4a9e2_row3_col19\" class=\"data row3 col19\" >yes</td>\n      <td id=\"T_4a9e2_row3_col20\" class=\"data row3 col20\" >No Risk</td>\n    </tr>\n    <tr>\n      <th id=\"T_4a9e2_level0_row4\" class=\"row_heading level0 row4\" >4</th>\n      <td id=\"T_4a9e2_row4_col0\" class=\"data row4 col0\" >no_checking</td>\n      <td id=\"T_4a9e2_row4_col1\" class=\"data row4 col1\" >28.000000</td>\n      <td id=\"T_4a9e2_row4_col2\" class=\"data row4 col2\" >prior_payments_delayed</td>\n      <td id=\"T_4a9e2_row4_col3\" class=\"data row4 col3\" >education</td>\n      <td id=\"T_4a9e2_row4_col4\" class=\"data row4 col4\" >6235.000000</td>\n      <td id=\"T_4a9e2_row4_col5\" class=\"data row4 col5\" >500_to_1000</td>\n      <td id=\"T_4a9e2_row4_col6\" class=\"data row4 col6\" >greater_7</td>\n      <td id=\"T_4a9e2_row4_col7\" class=\"data row4 col7\" >3.000000</td>\n      <td id=\"T_4a9e2_row4_col8\" class=\"data row4 col8\" >male</td>\n      <td id=\"T_4a9e2_row4_col9\" class=\"data row4 col9\" >none</td>\n      <td id=\"T_4a9e2_row4_col10\" class=\"data row4 col10\" >3.000000</td>\n      <td id=\"T_4a9e2_row4_col11\" class=\"data row4 col11\" >unknown</td>\n      <td id=\"T_4a9e2_row4_col12\" class=\"data row4 col12\" >57.000000</td>\n      <td id=\"T_4a9e2_row4_col13\" class=\"data row4 col13\" >none</td>\n      <td id=\"T_4a9e2_row4_col14\" class=\"data row4 col14\" >own</td>\n      <td id=\"T_4a9e2_row4_col15\" class=\"data row4 col15\" >2.000000</td>\n      <td id=\"T_4a9e2_row4_col16\" class=\"data row4 col16\" >skilled</td>\n      <td id=\"T_4a9e2_row4_col17\" class=\"data row4 col17\" >1.000000</td>\n      <td id=\"T_4a9e2_row4_col18\" class=\"data row4 col18\" >none</td>\n      <td id=\"T_4a9e2_row4_col19\" class=\"data row4 col19\" >yes</td>\n      <td id=\"T_4a9e2_row4_col20\" class=\"data row4 col20\" >Risk</td>\n    </tr>\n  </tbody>\n</table>\n"
                    },
                    "metadata": {}
                }
            ]
        },
        {
            "metadata": {},
            "cell_type": "markdown",
            "source": "#### Print all features\n\nIf you're only interested in the feature group metadata, use the name of the `assetframe` or `print(<assetframe name>)` in a notebook cell."
        },
        {
            "metadata": {},
            "cell_type": "code",
            "source": "af",
            "execution_count": 5,
            "outputs": [
                {
                    "output_type": "execute_result",
                    "execution_count": 5,
                    "data": {
                        "text/plain": "                      Role                                        Description  \\\nAge                  Input                                                      \nEmploymentDuration   Input                                                      \nHousing              Input                                                      \nJob                  Input                                                      \nLoanAmount           Input                                                      \nLoanDuration         Input                                                      \nLoanPurpose          Input                                                      \nOthersOnLoan         Input  Whether there are other debtors or guarantors ...   \nOwnsProperty         Input                                                      \nRisk                Target                                                      \nSex                  Input                                                      \n\n                   Favorable labels Unfavorable labels Monitored groups  \\\nAge                                                            [18, 25]   \nEmploymentDuration                                                        \nHousing                                                                   \nJob                                                                       \nLoanAmount                                                                \nLoanDuration                                                              \nLoanPurpose                                                               \nOthersOnLoan                                                              \nOwnsProperty                                                              \nRisk                        No Risk               Risk                    \nSex                                                              female   \n\n                   Reference groups  \\\nAge                        [26, 75]   \nEmploymentDuration                    \nHousing                               \nJob                                   \nLoanAmount                            \nLoanDuration                          \nLoanPurpose                           \nOthersOnLoan                          \nOwnsProperty                          \nRisk                                  \nSex                            male   \n\n                                                   Value descriptions Recipe  \\\nAge                                                                            \nEmploymentDuration                                                             \nHousing                                                                        \nJob                                                                            \nLoanAmount                                                                     \nLoanDuration                                                                   \nLoanPurpose                                                                    \nOthersOnLoan        ('none', 'No others on the loan'), ('co-applic...          \nOwnsProperty                                                                   \nRisk                                                                           \nSex                                                                            \n\n                   Tags  \nAge                      \nEmploymentDuration       \nHousing                  \nJob                      \nLoanAmount               \nLoanDuration             \nLoanPurpose              \nOthersOnLoan             \nOwnsProperty             \nRisk                     \nSex                      ",
                        "text/html": "<div>\n<style scoped>\n    .dataframe tbody tr th:only-of-type {\n        vertical-align: middle;\n    }\n\n    .dataframe tbody tr th {\n        vertical-align: top;\n    }\n\n    .dataframe thead th {\n        text-align: right;\n    }\n</style>\n<table border=\"1\" class=\"dataframe\">\n  <thead>\n    <tr style=\"text-align: right;\">\n      <th></th>\n      <th>Role</th>\n      <th>Description</th>\n      <th>Favorable labels</th>\n      <th>Unfavorable labels</th>\n      <th>Monitored groups</th>\n      <th>Reference groups</th>\n      <th>Value descriptions</th>\n      <th>Recipe</th>\n      <th>Tags</th>\n    </tr>\n  </thead>\n  <tbody>\n    <tr>\n      <th>Age</th>\n      <td>Input</td>\n      <td></td>\n      <td></td>\n      <td></td>\n      <td>[18, 25]</td>\n      <td>[26, 75]</td>\n      <td></td>\n      <td></td>\n      <td></td>\n    </tr>\n    <tr>\n      <th>EmploymentDuration</th>\n      <td>Input</td>\n      <td></td>\n      <td></td>\n      <td></td>\n      <td></td>\n      <td></td>\n      <td></td>\n      <td></td>\n      <td></td>\n    </tr>\n    <tr>\n      <th>Housing</th>\n      <td>Input</td>\n      <td></td>\n      <td></td>\n      <td></td>\n      <td></td>\n      <td></td>\n      <td></td>\n      <td></td>\n      <td></td>\n    </tr>\n    <tr>\n      <th>Job</th>\n      <td>Input</td>\n      <td></td>\n      <td></td>\n      <td></td>\n      <td></td>\n      <td></td>\n      <td></td>\n      <td></td>\n      <td></td>\n    </tr>\n    <tr>\n      <th>LoanAmount</th>\n      <td>Input</td>\n      <td></td>\n      <td></td>\n      <td></td>\n      <td></td>\n      <td></td>\n      <td></td>\n      <td></td>\n      <td></td>\n    </tr>\n    <tr>\n      <th>LoanDuration</th>\n      <td>Input</td>\n      <td></td>\n      <td></td>\n      <td></td>\n      <td></td>\n      <td></td>\n      <td></td>\n      <td></td>\n      <td></td>\n    </tr>\n    <tr>\n      <th>LoanPurpose</th>\n      <td>Input</td>\n      <td></td>\n      <td></td>\n      <td></td>\n      <td></td>\n      <td></td>\n      <td></td>\n      <td></td>\n      <td></td>\n    </tr>\n    <tr>\n      <th>OthersOnLoan</th>\n      <td>Input</td>\n      <td>Whether there are other debtors or guarantors ...</td>\n      <td></td>\n      <td></td>\n      <td></td>\n      <td></td>\n      <td>('none', 'No others on the loan'), ('co-applic...</td>\n      <td></td>\n      <td></td>\n    </tr>\n    <tr>\n      <th>OwnsProperty</th>\n      <td>Input</td>\n      <td></td>\n      <td></td>\n      <td></td>\n      <td></td>\n      <td></td>\n      <td></td>\n      <td></td>\n      <td></td>\n    </tr>\n    <tr>\n      <th>Risk</th>\n      <td>Target</td>\n      <td></td>\n      <td>No Risk</td>\n      <td>Risk</td>\n      <td></td>\n      <td></td>\n      <td></td>\n      <td></td>\n      <td></td>\n    </tr>\n    <tr>\n      <th>Sex</th>\n      <td>Input</td>\n      <td></td>\n      <td></td>\n      <td></td>\n      <td>female</td>\n      <td>male</td>\n      <td></td>\n      <td></td>\n      <td></td>\n    </tr>\n  </tbody>\n</table>\n</div>"
                    },
                    "metadata": {}
                }
            ]
        },
        {
            "metadata": {},
            "cell_type": "markdown",
            "source": "### Collect the metadata for the AutoAI experiment\n\nTo start an AutoAI experiment with a data asset, you need to provide:\n- The columns to be used as input to the model\n- The column to be used as target\n- Fairness information\n\nWith `assetframe-lib` methods, you can easily access this specific metadata, and retrieve it in a form that can be used directly in AutoAI. Here's how:\n\n#### Get the input features"
        },
        {
            "metadata": {},
            "cell_type": "code",
            "source": "input_features = af.get_features_by_role(\"input\")",
            "execution_count": 6,
            "outputs": []
        },
        {
            "metadata": {},
            "cell_type": "code",
            "source": "input_feature_names = list(map(lambda feature: feature.get_column_name(), input_features))\nprint(input_feature_names)",
            "execution_count": 7,
            "outputs": [
                {
                    "output_type": "stream",
                    "text": "['Age', 'EmploymentDuration', 'Housing', 'Job', 'LoanAmount', 'LoanDuration', 'LoanPurpose', 'OthersOnLoan', 'OwnsProperty', 'Sex']\n",
                    "name": "stdout"
                }
            ]
        },
        {
            "metadata": {},
            "cell_type": "markdown",
            "source": "#### Get the target feature\n\nIn the example, only one feature is labeled as `target`, which is why you can access the result directly using `[0]`."
        },
        {
            "metadata": {},
            "cell_type": "code",
            "source": "target_features = af.get_features_by_role(\"target\")",
            "execution_count": 8,
            "outputs": []
        },
        {
            "metadata": {
                "scrolled": true
            },
            "cell_type": "code",
            "source": "target_feature_name = target_features[0].get_column_name()\nprint(target_feature_name)",
            "execution_count": 9,
            "outputs": [
                {
                    "output_type": "stream",
                    "text": "Risk\n",
                    "name": "stdout"
                }
            ]
        },
        {
            "metadata": {},
            "cell_type": "markdown",
            "source": "#### Get the fairness information for input and target features\n\nYou could get the information for each feature separately, using the following pattern:\n```\nfeature = af.get_feature(<name>)\nmonitoredGroups = feature.get_monitored_groups()\nreferenceGroups = feature.get_reference_groups()\n``` \n\nHowever, the `assetframe-lib` library provides a convenient method called `get_fairness_info()` that you can use to retrieve _all_ fairness information for a feature group, in a format that can be directly used in AutoAI, or other libraries such as [AI Fairness 360](https://aif360.mybluemix.net/resources#overview). "
        },
        {
            "metadata": {},
            "cell_type": "code",
            "source": "fairness_info = af.get_fairness_info()",
            "execution_count": 10,
            "outputs": []
        },
        {
            "metadata": {},
            "cell_type": "code",
            "source": "fairness_info",
            "execution_count": 11,
            "outputs": [
                {
                    "output_type": "execute_result",
                    "execution_count": 11,
                    "data": {
                        "text/plain": "{'favorable_labels': ['No Risk'],\n 'unfavorable_labels': ['Risk'],\n 'protected_attributes': [{'feature': 'Age',\n   'monitored_group': [[18, 25]],\n   'reference_group': [[26, 75]]},\n  {'feature': 'Sex',\n   'monitored_group': ['female'],\n   'reference_group': ['male']}]}"
                    },
                    "metadata": {}
                }
            ]
        },
        {
            "metadata": {},
            "cell_type": "markdown",
            "source": "<a id=\"autoai\"></a>\n## Create an AutoAI experiment\n\nNow, you will learn to use AutoAI to build a model that predicts `Risk` (our target feature), given the input features from the feature group."
        },
        {
            "metadata": {},
            "cell_type": "markdown",
            "source": "### Connect to the IBM Watson Machine Learning service\n\nAuthenticate the Watson Machine Learning service on IBM Cloud Pak for Data. You need to provide the location `url` and an `api_key`.\n\nThere are different ways to authenticate, but the notebook assumes the use of an API key, and not an IAM token.\nSee [Authenticating](https://dataplatform.cloud.ibm.com/docs/content/wsj/analyze-data/ml-authentication.html) for details on how to get the API key."
        },
        {
            "metadata": {},
            "cell_type": "code",
            "source": "# hidden cell\napi_key = #'<YOUR API KEY>'\nlocation = 'us-south'  # please change to the appropriate location of your WML service, if needed",
            "execution_count": 12,
            "outputs": []
        },
        {
            "metadata": {},
            "cell_type": "code",
            "source": "url = 'https://' + location + '.ml.cloud.ibm.com'\n\nwml_credentials = {\n    \"apikey\": api_key,\n    \"url\": url\n}",
            "execution_count": 13,
            "outputs": []
        },
        {
            "metadata": {},
            "cell_type": "code",
            "source": "from ibm_watson_machine_learning import APIClient\n\nclient = APIClient(wml_credentials)",
            "execution_count": 14,
            "outputs": []
        },
        {
            "metadata": {},
            "cell_type": "markdown",
            "source": "### Connect to the credit risk data"
        },
        {
            "metadata": {
                "pycharm": {
                    "is_executing": false
                }
            },
            "cell_type": "code",
            "source": "from ibm_watson_machine_learning.helpers import DataConnection, AssetLocation\n\nasset_details = wslib.assets.get_stored_data(asset_name, raw=True)\nasset_id = asset_details[\"metadata\"][\"asset_id\"]\n\ncredit_risk_conn = DataConnection(data_asset_id=asset_id)\ntraining_data_reference=[credit_risk_conn]",
            "execution_count": 15,
            "outputs": []
        },
        {
            "metadata": {},
            "cell_type": "markdown",
            "source": "### Configure the experiment with the feature group metadata\n\nNow, you can create the AutoAI experiment. You will use the feature group metadata to configure key aspects of the experiment:\n- `prediction_column` is the `target_feature_name`\n- `fairness_info` is the information from `get_fairness_info()`\n- `train_sample_columns_list`is the list of `input_feature_names`"
        },
        {
            "metadata": {
                "pycharm": {
                    "is_executing": false
                }
            },
            "cell_type": "code",
            "source": "from ibm_watson_machine_learning.experiment import AutoAI\n\nproject_id = wslib.here.get_ID()\n\nexperiment = AutoAI(wml_credentials, project_id)\n\npipeline_optimizer = experiment.optimizer(\n    name='Credit Risk Prediction - AutoAI',\n    desc='Credit Risk Model using Feature Group',\n    prediction_type=AutoAI.PredictionType.BINARY,\n    prediction_column=target_feature_name,\n    fairness_info=fairness_info,\n    train_sample_columns_list=input_feature_names,\n    scoring=AutoAI.Metrics.ROC_AUC_SCORE,\n)",
            "execution_count": 16,
            "outputs": []
        },
        {
            "metadata": {},
            "cell_type": "markdown",
            "source": "`get_params()` shows that the feature group metadata was retrieved:"
        },
        {
            "metadata": {
                "pycharm": {
                    "is_executing": false
                }
            },
            "cell_type": "code",
            "source": "pipeline_optimizer.get_params()['fairness_info']",
            "execution_count": 17,
            "outputs": [
                {
                    "output_type": "execute_result",
                    "execution_count": 17,
                    "data": {
                        "text/plain": "{'favorable_labels': ['No Risk'],\n 'unfavorable_labels': ['Risk'],\n 'protected_attributes': [{'feature': 'Age',\n   'monitored_group': [[18, 25]],\n   'reference_group': [[26, 75]]},\n  {'feature': 'Sex',\n   'monitored_group': ['female'],\n   'reference_group': ['male']}]}"
                    },
                    "metadata": {}
                }
            ]
        },
        {
            "metadata": {},
            "cell_type": "markdown",
            "source": "### Run the experiment\n\nYou can now run the experiment by calling the `fit()` method. `backgroundMode=False` ensures that the experiment is complete when the notebook cell is completed. "
        },
        {
            "metadata": {
                "pycharm": {
                    "is_executing": false
                }
            },
            "cell_type": "code",
            "source": "run_details = pipeline_optimizer.fit(\n            training_data_reference=training_data_reference,\n            background_mode=False)",
            "execution_count": 20,
            "outputs": [
                {
                    "output_type": "stream",
                    "text": "Training job 649facf5-c156-48d1-9ddf-bcf4c1fba7f4 completed: 100%|\u2588\u2588\u2588\u2588\u2588\u2588\u2588\u2588| [02:45<00:00,  1.66s/it]\n",
                    "name": "stdout"
                }
            ]
        },
        {
            "metadata": {},
            "cell_type": "markdown",
            "source": "### Pipelines comparison\n\nYou can list trained pipelines and evaluation metrics information in\nthe form of a pandas DataFrame by calling the `summary()` method. You can\nuse the DataFrame to compare all discovered pipelines and select the one\nyou like for further testing.\n\nNotice the columns for `training_disparate_impact_Sex` and `training_disparate_impact_Age`. AutoAI used the fairness information for both columns to compute these fairness metrics. "
        },
        {
            "metadata": {
                "pycharm": {
                    "is_executing": false
                }
            },
            "cell_type": "code",
            "source": "summary = pipeline_optimizer.summary()\nsummary",
            "execution_count": 21,
            "outputs": [
                {
                    "output_type": "execute_result",
                    "execution_count": 21,
                    "data": {
                        "text/plain": "               Enhancements                      Estimator  \\\nPipeline Name                                                \nPipeline_3          HPO, FE  SnapBoostingMachineClassifier   \nPipeline_4     HPO, FE, HPO  SnapBoostingMachineClassifier   \nPipeline_2              HPO  SnapBoostingMachineClassifier   \nPipeline_1                   SnapBoostingMachineClassifier   \n\n               training_disparate_impact_Sex  training_disparate_impact  \\\nPipeline Name                                                             \nPipeline_3                          1.141034                   3.246667   \nPipeline_4                          1.141034                   3.246667   \nPipeline_2                          1.186798                   4.143579   \nPipeline_1                          1.141928                   2.613027   \n\n               training_roc_auc_(optimized)  holdout_disparate_impact_Sex  \\\nPipeline Name                                                               \nPipeline_3                         0.837266                      1.048070   \nPipeline_4                         0.837266                      1.048070   \nPipeline_2                         0.835565                      1.053409   \nPipeline_1                         0.834072                      1.078119   \n\n               holdout_average_precision  holdout_log_loss  holdout_roc_auc  \\\nPipeline Name                                                                 \nPipeline_3                      0.478866          0.458079         0.846034   \nPipeline_4                      0.478866          0.458079         0.846034   \nPipeline_2                      0.478234          0.456256         0.845015   \nPipeline_1                      0.468686          0.408897         0.848838   \n\n               holdout_precision  ...  holdout_accuracy  \\\nPipeline Name                     ...                     \nPipeline_3              0.871622  ...          0.775551   \nPipeline_4              0.871622  ...          0.775551   \nPipeline_2              0.868966  ...          0.763527   \nPipeline_1              0.902027  ...          0.811623   \n\n               holdout_balanced_accuracy  training_recall  holdout_f1  \\\nPipeline Name                                                           \nPipeline_3                      0.774782         0.747653    0.821656   \nPipeline_4                      0.774782         0.747653    0.821656   \nPipeline_2                      0.765746         0.747317    0.810289   \nPipeline_1                      0.815282         0.761413    0.850318   \n\n               training_accuracy  holdout_disparate_impact  \\\nPipeline Name                                                \nPipeline_3              0.743696                  1.886098   \nPipeline_4              0.743696                  1.886098   \nPipeline_2              0.742803                  1.944582   \nPipeline_1              0.745479                  1.942618   \n\n               training_balanced_accuracy  holdout_disparate_impact_Age  \\\nPipeline Name                                                             \nPipeline_3                       0.741761                      1.943054   \nPipeline_4                       0.741761                      1.943054   \nPipeline_2                       0.740600                      2.001934   \nPipeline_1                       0.737653                      1.943054   \n\n               training_f1  training_disparate_impact_Age  \nPipeline Name                                              \nPipeline_3        0.794974                       4.003291  \nPipeline_4        0.794974                       4.003291  \nPipeline_2        0.794276                       4.306584  \nPipeline_1        0.799033                       3.091430  \n\n[4 rows x 24 columns]",
                        "text/html": "<div>\n<style scoped>\n    .dataframe tbody tr th:only-of-type {\n        vertical-align: middle;\n    }\n\n    .dataframe tbody tr th {\n        vertical-align: top;\n    }\n\n    .dataframe thead th {\n        text-align: right;\n    }\n</style>\n<table border=\"1\" class=\"dataframe\">\n  <thead>\n    <tr style=\"text-align: right;\">\n      <th></th>\n      <th>Enhancements</th>\n      <th>Estimator</th>\n      <th>training_disparate_impact_Sex</th>\n      <th>training_disparate_impact</th>\n      <th>training_roc_auc_(optimized)</th>\n      <th>holdout_disparate_impact_Sex</th>\n      <th>holdout_average_precision</th>\n      <th>holdout_log_loss</th>\n      <th>holdout_roc_auc</th>\n      <th>holdout_precision</th>\n      <th>...</th>\n      <th>holdout_accuracy</th>\n      <th>holdout_balanced_accuracy</th>\n      <th>training_recall</th>\n      <th>holdout_f1</th>\n      <th>training_accuracy</th>\n      <th>holdout_disparate_impact</th>\n      <th>training_balanced_accuracy</th>\n      <th>holdout_disparate_impact_Age</th>\n      <th>training_f1</th>\n      <th>training_disparate_impact_Age</th>\n    </tr>\n    <tr>\n      <th>Pipeline Name</th>\n      <th></th>\n      <th></th>\n      <th></th>\n      <th></th>\n      <th></th>\n      <th></th>\n      <th></th>\n      <th></th>\n      <th></th>\n      <th></th>\n      <th></th>\n      <th></th>\n      <th></th>\n      <th></th>\n      <th></th>\n      <th></th>\n      <th></th>\n      <th></th>\n      <th></th>\n      <th></th>\n      <th></th>\n    </tr>\n  </thead>\n  <tbody>\n    <tr>\n      <th>Pipeline_3</th>\n      <td>HPO, FE</td>\n      <td>SnapBoostingMachineClassifier</td>\n      <td>1.141034</td>\n      <td>3.246667</td>\n      <td>0.837266</td>\n      <td>1.048070</td>\n      <td>0.478866</td>\n      <td>0.458079</td>\n      <td>0.846034</td>\n      <td>0.871622</td>\n      <td>...</td>\n      <td>0.775551</td>\n      <td>0.774782</td>\n      <td>0.747653</td>\n      <td>0.821656</td>\n      <td>0.743696</td>\n      <td>1.886098</td>\n      <td>0.741761</td>\n      <td>1.943054</td>\n      <td>0.794974</td>\n      <td>4.003291</td>\n    </tr>\n    <tr>\n      <th>Pipeline_4</th>\n      <td>HPO, FE, HPO</td>\n      <td>SnapBoostingMachineClassifier</td>\n      <td>1.141034</td>\n      <td>3.246667</td>\n      <td>0.837266</td>\n      <td>1.048070</td>\n      <td>0.478866</td>\n      <td>0.458079</td>\n      <td>0.846034</td>\n      <td>0.871622</td>\n      <td>...</td>\n      <td>0.775551</td>\n      <td>0.774782</td>\n      <td>0.747653</td>\n      <td>0.821656</td>\n      <td>0.743696</td>\n      <td>1.886098</td>\n      <td>0.741761</td>\n      <td>1.943054</td>\n      <td>0.794974</td>\n      <td>4.003291</td>\n    </tr>\n    <tr>\n      <th>Pipeline_2</th>\n      <td>HPO</td>\n      <td>SnapBoostingMachineClassifier</td>\n      <td>1.186798</td>\n      <td>4.143579</td>\n      <td>0.835565</td>\n      <td>1.053409</td>\n      <td>0.478234</td>\n      <td>0.456256</td>\n      <td>0.845015</td>\n      <td>0.868966</td>\n      <td>...</td>\n      <td>0.763527</td>\n      <td>0.765746</td>\n      <td>0.747317</td>\n      <td>0.810289</td>\n      <td>0.742803</td>\n      <td>1.944582</td>\n      <td>0.740600</td>\n      <td>2.001934</td>\n      <td>0.794276</td>\n      <td>4.306584</td>\n    </tr>\n    <tr>\n      <th>Pipeline_1</th>\n      <td></td>\n      <td>SnapBoostingMachineClassifier</td>\n      <td>1.141928</td>\n      <td>2.613027</td>\n      <td>0.834072</td>\n      <td>1.078119</td>\n      <td>0.468686</td>\n      <td>0.408897</td>\n      <td>0.848838</td>\n      <td>0.902027</td>\n      <td>...</td>\n      <td>0.811623</td>\n      <td>0.815282</td>\n      <td>0.761413</td>\n      <td>0.850318</td>\n      <td>0.745479</td>\n      <td>1.942618</td>\n      <td>0.737653</td>\n      <td>1.943054</td>\n      <td>0.799033</td>\n      <td>3.091430</td>\n    </tr>\n  </tbody>\n</table>\n<p>4 rows \u00d7 24 columns</p>\n</div>"
                    },
                    "metadata": {}
                }
            ]
        },
        {
            "metadata": {},
            "cell_type": "markdown",
            "source": "Looking at `Pipeline_1` , you see that AutoAI only used the `Input` features for the model. "
        },
        {
            "metadata": {},
            "cell_type": "code",
            "source": "pipeline_details = pipeline_optimizer.get_pipeline_details('Pipeline_1')",
            "execution_count": 22,
            "outputs": []
        },
        {
            "metadata": {},
            "cell_type": "code",
            "source": "pipeline_details['features_importance']",
            "execution_count": 23,
            "outputs": [
                {
                    "output_type": "execute_result",
                    "execution_count": 23,
                    "data": {
                        "text/plain": "                    features_importance\nAge                                1.00\nLoanDuration                       0.77\nLoanAmount                         0.52\nEmploymentDuration                 0.37\nOwnsProperty                       0.34\nOthersOnLoan                       0.13\nSex                                0.10\nHousing                            0.01\nLoanPurpose                        0.00\nJob                                0.00",
                        "text/html": "<div>\n<style scoped>\n    .dataframe tbody tr th:only-of-type {\n        vertical-align: middle;\n    }\n\n    .dataframe tbody tr th {\n        vertical-align: top;\n    }\n\n    .dataframe thead th {\n        text-align: right;\n    }\n</style>\n<table border=\"1\" class=\"dataframe\">\n  <thead>\n    <tr style=\"text-align: right;\">\n      <th></th>\n      <th>features_importance</th>\n    </tr>\n  </thead>\n  <tbody>\n    <tr>\n      <th>Age</th>\n      <td>1.00</td>\n    </tr>\n    <tr>\n      <th>LoanDuration</th>\n      <td>0.77</td>\n    </tr>\n    <tr>\n      <th>LoanAmount</th>\n      <td>0.52</td>\n    </tr>\n    <tr>\n      <th>EmploymentDuration</th>\n      <td>0.37</td>\n    </tr>\n    <tr>\n      <th>OwnsProperty</th>\n      <td>0.34</td>\n    </tr>\n    <tr>\n      <th>OthersOnLoan</th>\n      <td>0.13</td>\n    </tr>\n    <tr>\n      <th>Sex</th>\n      <td>0.10</td>\n    </tr>\n    <tr>\n      <th>Housing</th>\n      <td>0.01</td>\n    </tr>\n    <tr>\n      <th>LoanPurpose</th>\n      <td>0.00</td>\n    </tr>\n    <tr>\n      <th>Job</th>\n      <td>0.00</td>\n    </tr>\n  </tbody>\n</table>\n</div>"
                    },
                    "metadata": {}
                }
            ]
        },
        {
            "metadata": {},
            "cell_type": "markdown",
            "source": "<a id=\"summary\"></a>\n## Summary\n\nCongratulations! You retrieved an existing feature group, and used its metadata to configure an AutoAI experiment. Feel free to extend this notebook to pick one of the AutoAI pipelines, and deploy the model."
        },
        {
            "metadata": {},
            "cell_type": "markdown",
            "source": "### Authors\n\n**Szymon Brandys**, Senior Software Engineer in CloudPak for Data, IBM\n\n**Simone Zerfass**, Software Developer, Watson Studio, IBM"
        },
        {
            "metadata": {},
            "cell_type": "markdown",
            "source": "Copyright \u00a9 2023 IBM. This notebook and its source code are released under the terms of the MIT License."
        }
    ],
    "metadata": {
        "kernelspec": {
            "name": "python3",
            "display_name": "Python 3.10",
            "language": "python"
        },
        "language_info": {
            "name": "python",
            "version": "3.10.9",
            "mimetype": "text/x-python",
            "codemirror_mode": {
                "name": "ipython",
                "version": 3
            },
            "pygments_lexer": "ipython3",
            "nbconvert_exporter": "python",
            "file_extension": ".py"
        }
    },
    "nbformat": 4,
    "nbformat_minor": 4
}